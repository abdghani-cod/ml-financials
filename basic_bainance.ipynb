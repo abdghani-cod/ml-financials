{
 "cells": [
  {
   "cell_type": "code",
   "execution_count": 2,
   "id": "2abf6148",
   "metadata": {},
   "outputs": [],
   "source": [
    "api_secret='5eeIG9OzUwz0JKKe89iRbsA3oDaWHrZ8IDET1xoMhyxd18TpjiTnhjxm5890Ulp2'\n",
    "api_key='h5aUvTkvXLNlc7ZHXwkYFAK5YRzXnCC6prKv91qxTIhYmlLgsKTaspIle9gxRa3v'"
   ]
  },
  {
   "cell_type": "code",
   "execution_count": 3,
   "id": "7799ba63",
   "metadata": {},
   "outputs": [],
   "source": [
    "from binance import Client, ThreadedWebsocketManager, ThreadedDepthCacheManager\n",
    "client = Client(api_key, api_secret)"
   ]
  },
  {
   "cell_type": "code",
   "execution_count": 9,
   "id": "d94de563",
   "metadata": {},
   "outputs": [],
   "source": [
    "import pandas as pd"
   ]
  },
  {
   "cell_type": "code",
   "execution_count": 104,
   "id": "5ac7facf",
   "metadata": {},
   "outputs": [
    {
     "data": {
      "text/html": [
       "<div>\n",
       "<style scoped>\n",
       "    .dataframe tbody tr th:only-of-type {\n",
       "        vertical-align: middle;\n",
       "    }\n",
       "\n",
       "    .dataframe tbody tr th {\n",
       "        vertical-align: top;\n",
       "    }\n",
       "\n",
       "    .dataframe thead th {\n",
       "        text-align: right;\n",
       "    }\n",
       "</style>\n",
       "<table border=\"1\" class=\"dataframe\">\n",
       "  <thead>\n",
       "    <tr style=\"text-align: right;\">\n",
       "      <th></th>\n",
       "      <th>coin</th>\n",
       "      <th>depositAllEnable</th>\n",
       "      <th>withdrawAllEnable</th>\n",
       "      <th>name</th>\n",
       "      <th>free</th>\n",
       "      <th>locked</th>\n",
       "      <th>freeze</th>\n",
       "      <th>withdrawing</th>\n",
       "      <th>ipoing</th>\n",
       "      <th>ipoable</th>\n",
       "      <th>storage</th>\n",
       "      <th>isLegalMoney</th>\n",
       "      <th>trading</th>\n",
       "      <th>networkList</th>\n",
       "    </tr>\n",
       "  </thead>\n",
       "  <tbody>\n",
       "    <tr>\n",
       "      <th>0</th>\n",
       "      <td>AGLD</td>\n",
       "      <td>True</td>\n",
       "      <td>True</td>\n",
       "      <td>Adventure Gold</td>\n",
       "      <td>0</td>\n",
       "      <td>0</td>\n",
       "      <td>0</td>\n",
       "      <td>0</td>\n",
       "      <td>0</td>\n",
       "      <td>0</td>\n",
       "      <td>0</td>\n",
       "      <td>False</td>\n",
       "      <td>True</td>\n",
       "      <td>[{'network': 'ETH', 'coin': 'AGLD', 'withdrawI...</td>\n",
       "    </tr>\n",
       "    <tr>\n",
       "      <th>1</th>\n",
       "      <td>STPT</td>\n",
       "      <td>True</td>\n",
       "      <td>True</td>\n",
       "      <td>Standard Tokenization Protocol</td>\n",
       "      <td>0</td>\n",
       "      <td>0</td>\n",
       "      <td>0</td>\n",
       "      <td>0</td>\n",
       "      <td>0</td>\n",
       "      <td>0</td>\n",
       "      <td>0</td>\n",
       "      <td>False</td>\n",
       "      <td>True</td>\n",
       "      <td>[{'network': 'ETH', 'coin': 'STPT', 'withdrawI...</td>\n",
       "    </tr>\n",
       "    <tr>\n",
       "      <th>2</th>\n",
       "      <td>MXN</td>\n",
       "      <td>True</td>\n",
       "      <td>True</td>\n",
       "      <td>Mexican Peso</td>\n",
       "      <td>0</td>\n",
       "      <td>0</td>\n",
       "      <td>0</td>\n",
       "      <td>0</td>\n",
       "      <td>0</td>\n",
       "      <td>0</td>\n",
       "      <td>0</td>\n",
       "      <td>True</td>\n",
       "      <td>False</td>\n",
       "      <td>[{'network': 'FIAT_MONEY', 'coin': 'MXN', 'wit...</td>\n",
       "    </tr>\n",
       "    <tr>\n",
       "      <th>3</th>\n",
       "      <td>UGX</td>\n",
       "      <td>True</td>\n",
       "      <td>True</td>\n",
       "      <td>Uganda Shilling</td>\n",
       "      <td>0</td>\n",
       "      <td>0</td>\n",
       "      <td>0</td>\n",
       "      <td>0</td>\n",
       "      <td>0</td>\n",
       "      <td>0</td>\n",
       "      <td>0</td>\n",
       "      <td>True</td>\n",
       "      <td>False</td>\n",
       "      <td>[{'network': 'FIAT_MONEY', 'coin': 'UGX', 'wit...</td>\n",
       "    </tr>\n",
       "    <tr>\n",
       "      <th>4</th>\n",
       "      <td>RENBTC</td>\n",
       "      <td>False</td>\n",
       "      <td>False</td>\n",
       "      <td>renBTC</td>\n",
       "      <td>0</td>\n",
       "      <td>0</td>\n",
       "      <td>0</td>\n",
       "      <td>0</td>\n",
       "      <td>0</td>\n",
       "      <td>0</td>\n",
       "      <td>0</td>\n",
       "      <td>False</td>\n",
       "      <td>False</td>\n",
       "      <td>[{'network': 'ETH', 'coin': 'RENBTC', 'withdra...</td>\n",
       "    </tr>\n",
       "    <tr>\n",
       "      <th>...</th>\n",
       "      <td>...</td>\n",
       "      <td>...</td>\n",
       "      <td>...</td>\n",
       "      <td>...</td>\n",
       "      <td>...</td>\n",
       "      <td>...</td>\n",
       "      <td>...</td>\n",
       "      <td>...</td>\n",
       "      <td>...</td>\n",
       "      <td>...</td>\n",
       "      <td>...</td>\n",
       "      <td>...</td>\n",
       "      <td>...</td>\n",
       "      <td>...</td>\n",
       "    </tr>\n",
       "    <tr>\n",
       "      <th>600</th>\n",
       "      <td>NZD</td>\n",
       "      <td>True</td>\n",
       "      <td>True</td>\n",
       "      <td>New Zealand Dollar</td>\n",
       "      <td>0</td>\n",
       "      <td>0</td>\n",
       "      <td>0</td>\n",
       "      <td>0</td>\n",
       "      <td>0</td>\n",
       "      <td>0</td>\n",
       "      <td>0</td>\n",
       "      <td>True</td>\n",
       "      <td>False</td>\n",
       "      <td>[{'network': 'FIAT_MONEY', 'coin': 'NZD', 'wit...</td>\n",
       "    </tr>\n",
       "    <tr>\n",
       "      <th>601</th>\n",
       "      <td>MOVR</td>\n",
       "      <td>True</td>\n",
       "      <td>True</td>\n",
       "      <td>Moonriver</td>\n",
       "      <td>0</td>\n",
       "      <td>0</td>\n",
       "      <td>0</td>\n",
       "      <td>0</td>\n",
       "      <td>0</td>\n",
       "      <td>0</td>\n",
       "      <td>0</td>\n",
       "      <td>False</td>\n",
       "      <td>True</td>\n",
       "      <td>[{'network': 'MOVR', 'coin': 'MOVR', 'withdraw...</td>\n",
       "    </tr>\n",
       "    <tr>\n",
       "      <th>602</th>\n",
       "      <td>XMR</td>\n",
       "      <td>True</td>\n",
       "      <td>True</td>\n",
       "      <td>Monero</td>\n",
       "      <td>0</td>\n",
       "      <td>0</td>\n",
       "      <td>0</td>\n",
       "      <td>0</td>\n",
       "      <td>0</td>\n",
       "      <td>0</td>\n",
       "      <td>0</td>\n",
       "      <td>False</td>\n",
       "      <td>True</td>\n",
       "      <td>[{'network': 'XMR', 'coin': 'XMR', 'withdrawIn...</td>\n",
       "    </tr>\n",
       "    <tr>\n",
       "      <th>603</th>\n",
       "      <td>1INCHDOWN</td>\n",
       "      <td>False</td>\n",
       "      <td>False</td>\n",
       "      <td>1INCHDOWN</td>\n",
       "      <td>0</td>\n",
       "      <td>0</td>\n",
       "      <td>0</td>\n",
       "      <td>0</td>\n",
       "      <td>0</td>\n",
       "      <td>0</td>\n",
       "      <td>0</td>\n",
       "      <td>False</td>\n",
       "      <td>False</td>\n",
       "      <td>[{'network': 'ETF', 'coin': '1INCHDOWN', 'with...</td>\n",
       "    </tr>\n",
       "    <tr>\n",
       "      <th>604</th>\n",
       "      <td>COTI</td>\n",
       "      <td>True</td>\n",
       "      <td>True</td>\n",
       "      <td>COTI</td>\n",
       "      <td>0</td>\n",
       "      <td>0</td>\n",
       "      <td>0</td>\n",
       "      <td>0</td>\n",
       "      <td>0</td>\n",
       "      <td>0</td>\n",
       "      <td>0</td>\n",
       "      <td>False</td>\n",
       "      <td>True</td>\n",
       "      <td>[{'network': 'BSC', 'coin': 'COTI', 'withdrawI...</td>\n",
       "    </tr>\n",
       "  </tbody>\n",
       "</table>\n",
       "<p>605 rows × 14 columns</p>\n",
       "</div>"
      ],
      "text/plain": [
       "          coin  depositAllEnable  withdrawAllEnable  \\\n",
       "0         AGLD              True               True   \n",
       "1         STPT              True               True   \n",
       "2          MXN              True               True   \n",
       "3          UGX              True               True   \n",
       "4       RENBTC             False              False   \n",
       "..         ...               ...                ...   \n",
       "600        NZD              True               True   \n",
       "601       MOVR              True               True   \n",
       "602        XMR              True               True   \n",
       "603  1INCHDOWN             False              False   \n",
       "604       COTI              True               True   \n",
       "\n",
       "                               name free locked freeze withdrawing ipoing  \\\n",
       "0                    Adventure Gold    0      0      0           0      0   \n",
       "1    Standard Tokenization Protocol    0      0      0           0      0   \n",
       "2                      Mexican Peso    0      0      0           0      0   \n",
       "3                   Uganda Shilling    0      0      0           0      0   \n",
       "4                            renBTC    0      0      0           0      0   \n",
       "..                              ...  ...    ...    ...         ...    ...   \n",
       "600              New Zealand Dollar    0      0      0           0      0   \n",
       "601                       Moonriver    0      0      0           0      0   \n",
       "602                          Monero    0      0      0           0      0   \n",
       "603                       1INCHDOWN    0      0      0           0      0   \n",
       "604                            COTI    0      0      0           0      0   \n",
       "\n",
       "    ipoable storage  isLegalMoney  trading  \\\n",
       "0         0       0         False     True   \n",
       "1         0       0         False     True   \n",
       "2         0       0          True    False   \n",
       "3         0       0          True    False   \n",
       "4         0       0         False    False   \n",
       "..      ...     ...           ...      ...   \n",
       "600       0       0          True    False   \n",
       "601       0       0         False     True   \n",
       "602       0       0         False     True   \n",
       "603       0       0         False    False   \n",
       "604       0       0         False     True   \n",
       "\n",
       "                                           networkList  \n",
       "0    [{'network': 'ETH', 'coin': 'AGLD', 'withdrawI...  \n",
       "1    [{'network': 'ETH', 'coin': 'STPT', 'withdrawI...  \n",
       "2    [{'network': 'FIAT_MONEY', 'coin': 'MXN', 'wit...  \n",
       "3    [{'network': 'FIAT_MONEY', 'coin': 'UGX', 'wit...  \n",
       "4    [{'network': 'ETH', 'coin': 'RENBTC', 'withdra...  \n",
       "..                                                 ...  \n",
       "600  [{'network': 'FIAT_MONEY', 'coin': 'NZD', 'wit...  \n",
       "601  [{'network': 'MOVR', 'coin': 'MOVR', 'withdraw...  \n",
       "602  [{'network': 'XMR', 'coin': 'XMR', 'withdrawIn...  \n",
       "603  [{'network': 'ETF', 'coin': '1INCHDOWN', 'with...  \n",
       "604  [{'network': 'BSC', 'coin': 'COTI', 'withdrawI...  \n",
       "\n",
       "[605 rows x 14 columns]"
      ]
     },
     "execution_count": 104,
     "metadata": {},
     "output_type": "execute_result"
    }
   ],
   "source": [
    "df = pd.json_normalize(client.get_all_coins_info())\n",
    "df"
   ]
  },
  {
   "cell_type": "code",
   "execution_count": 106,
   "id": "95ddef4d",
   "metadata": {},
   "outputs": [
    {
     "data": {
      "text/plain": [
       "'AGLD'"
      ]
     },
     "execution_count": 106,
     "metadata": {},
     "output_type": "execute_result"
    }
   ],
   "source": [
    "df.iloc[0]['coin']"
   ]
  },
  {
   "cell_type": "code",
   "execution_count": 30,
   "id": "479373d1",
   "metadata": {},
   "outputs": [],
   "source": [
    "all_ticker = pd.DataFrame(client.get_all_tickers())"
   ]
  },
  {
   "cell_type": "code",
   "execution_count": 32,
   "id": "f8b6cfb0",
   "metadata": {},
   "outputs": [
    {
     "name": "stdout",
     "output_type": "stream",
     "text": [
      "<class 'pandas.core.frame.DataFrame'>\n",
      "RangeIndex: 2129 entries, 0 to 2128\n",
      "Data columns (total 2 columns):\n",
      " #   Column  Non-Null Count  Dtype  \n",
      "---  ------  --------------  -----  \n",
      " 0   symbol  2129 non-null   object \n",
      " 1   price   2129 non-null   float64\n",
      "dtypes: float64(1), object(1)\n",
      "memory usage: 33.4+ KB\n"
     ]
    }
   ],
   "source": [
    "all_ticker.price = pd.to_numeric(all_ticker.price)\n",
    "all_ticker.info()"
   ]
  },
  {
   "cell_type": "code",
   "execution_count": 34,
   "id": "a65d857f",
   "metadata": {},
   "outputs": [
    {
     "data": {
      "text/html": [
       "<div>\n",
       "<style scoped>\n",
       "    .dataframe tbody tr th:only-of-type {\n",
       "        vertical-align: middle;\n",
       "    }\n",
       "\n",
       "    .dataframe tbody tr th {\n",
       "        vertical-align: top;\n",
       "    }\n",
       "\n",
       "    .dataframe thead th {\n",
       "        text-align: right;\n",
       "    }\n",
       "</style>\n",
       "<table border=\"1\" class=\"dataframe\">\n",
       "  <thead>\n",
       "    <tr style=\"text-align: right;\">\n",
       "      <th></th>\n",
       "      <th>symbol</th>\n",
       "      <th>price</th>\n",
       "    </tr>\n",
       "  </thead>\n",
       "  <tbody>\n",
       "    <tr>\n",
       "      <th>0</th>\n",
       "      <td>ETHBTC</td>\n",
       "      <td>0.072724</td>\n",
       "    </tr>\n",
       "    <tr>\n",
       "      <th>1</th>\n",
       "      <td>LTCBTC</td>\n",
       "      <td>0.004637</td>\n",
       "    </tr>\n",
       "    <tr>\n",
       "      <th>2</th>\n",
       "      <td>BNBBTC</td>\n",
       "      <td>0.018201</td>\n",
       "    </tr>\n",
       "    <tr>\n",
       "      <th>3</th>\n",
       "      <td>NEOBTC</td>\n",
       "      <td>0.000409</td>\n",
       "    </tr>\n",
       "    <tr>\n",
       "      <th>8</th>\n",
       "      <td>BCCBTC</td>\n",
       "      <td>0.079081</td>\n",
       "    </tr>\n",
       "    <tr>\n",
       "      <th>...</th>\n",
       "      <td>...</td>\n",
       "      <td>...</td>\n",
       "    </tr>\n",
       "    <tr>\n",
       "      <th>2107</th>\n",
       "      <td>POLYXBTC</td>\n",
       "      <td>0.000010</td>\n",
       "    </tr>\n",
       "    <tr>\n",
       "      <th>2110</th>\n",
       "      <td>APTBTC</td>\n",
       "      <td>0.000281</td>\n",
       "    </tr>\n",
       "    <tr>\n",
       "      <th>2113</th>\n",
       "      <td>BTCPLN</td>\n",
       "      <td>74521.000000</td>\n",
       "    </tr>\n",
       "    <tr>\n",
       "      <th>2120</th>\n",
       "      <td>OSMOBTC</td>\n",
       "      <td>0.000061</td>\n",
       "    </tr>\n",
       "    <tr>\n",
       "      <th>2123</th>\n",
       "      <td>HFTBTC</td>\n",
       "      <td>0.000033</td>\n",
       "    </tr>\n",
       "  </tbody>\n",
       "</table>\n",
       "<p>442 rows × 2 columns</p>\n",
       "</div>"
      ],
      "text/plain": [
       "        symbol         price\n",
       "0       ETHBTC      0.072724\n",
       "1       LTCBTC      0.004637\n",
       "2       BNBBTC      0.018201\n",
       "3       NEOBTC      0.000409\n",
       "8       BCCBTC      0.079081\n",
       "...        ...           ...\n",
       "2107  POLYXBTC      0.000010\n",
       "2110    APTBTC      0.000281\n",
       "2113    BTCPLN  74521.000000\n",
       "2120   OSMOBTC      0.000061\n",
       "2123    HFTBTC      0.000033\n",
       "\n",
       "[442 rows x 2 columns]"
      ]
     },
     "execution_count": 34,
     "metadata": {},
     "output_type": "execute_result"
    }
   ],
   "source": [
    "all_ticker.loc[all_ticker.symbol.str.contains('BTC')]"
   ]
  },
  {
   "cell_type": "code",
   "execution_count": 42,
   "id": "e10d7d10",
   "metadata": {},
   "outputs": [],
   "source": [
    "ts = client._get_earliest_valid_timestamp(symbol=\"BTCUSDT\",interval=\"1d\")\n",
    "bars = client.get_historical_klines(symbol=\"BTCUSDT\",interval=\"1d\",start_str=ts,limit=2000)\n",
    "df = pd.DataFrame(bars)"
   ]
  },
  {
   "cell_type": "code",
   "execution_count": 46,
   "id": "9f304af7",
   "metadata": {},
   "outputs": [],
   "source": [
    "df[\"Date\"] = pd.to_datetime(df[0],unit=\"ms\")\n",
    "df.columns = ['Open time', 'Open', 'High', 'Low', 'Close', 'Volume', 'Close time','Quote asset volume', 'Number of trades', 'Taker buy base asset volume', 'Taker buy quote asset volume', 'Ignore', 'Date']"
   ]
  },
  {
   "cell_type": "code",
   "execution_count": 51,
   "id": "4d269489",
   "metadata": {},
   "outputs": [],
   "source": [
    "df = df[['Date','Open', 'High', 'Low', 'Close', 'Volume']].copy()"
   ]
  },
  {
   "cell_type": "code",
   "execution_count": 54,
   "id": "41500a3a",
   "metadata": {},
   "outputs": [],
   "source": [
    "df.set_index('Date',inplace=True)"
   ]
  },
  {
   "cell_type": "code",
   "execution_count": 56,
   "id": "f61deac2",
   "metadata": {},
   "outputs": [],
   "source": [
    "for _col in df.columns:\n",
    "    df[_col] = pd.to_numeric(df[_col],errors='coerce')"
   ]
  },
  {
   "cell_type": "code",
   "execution_count": 66,
   "id": "271e380a",
   "metadata": {},
   "outputs": [],
   "source": [
    "from binance.client import Client\n",
    "paper_api_key = 'xfLbcxAkV0tz1ySW0Me3qJJoJhLwF6f1DrKQB5HRiNsikfsWJOhvy9KpkYQ1lxkm'\n",
    "paper_secret_key = 'A2JysAhLqwPDMmY4Vu7bQJc4KXSwFc2W1M03RqL0xOG9bQ9Gm1Uwoi6oAYxoXt5u'\n",
    "testClient = Client(api_key=paper_api_key,api_secret=paper_secret_key,tld=\"com\",testnet=True)"
   ]
  },
  {
   "cell_type": "code",
   "execution_count": 69,
   "id": "444ca5a4",
   "metadata": {},
   "outputs": [
    {
     "data": {
      "text/plain": [
       "{'makerCommission': 0,\n",
       " 'takerCommission': 0,\n",
       " 'buyerCommission': 0,\n",
       " 'sellerCommission': 0,\n",
       " 'canTrade': True,\n",
       " 'canWithdraw': False,\n",
       " 'canDeposit': False,\n",
       " 'brokered': False,\n",
       " 'updateTime': 1669695350938,\n",
       " 'accountType': 'SPOT',\n",
       " 'balances': [{'asset': 'BNB',\n",
       "   'free': '1000.00000000',\n",
       "   'locked': '0.00000000'},\n",
       "  {'asset': 'BTC', 'free': '1.00000000', 'locked': '0.00000000'},\n",
       "  {'asset': 'BUSD', 'free': '10000.00000000', 'locked': '0.00000000'},\n",
       "  {'asset': 'ETH', 'free': '100.00000000', 'locked': '0.00000000'},\n",
       "  {'asset': 'LTC', 'free': '500.00000000', 'locked': '0.00000000'},\n",
       "  {'asset': 'TRX', 'free': '500000.00000000', 'locked': '0.00000000'},\n",
       "  {'asset': 'USDT', 'free': '10000.00000000', 'locked': '0.00000000'},\n",
       "  {'asset': 'XRP', 'free': '50000.00000000', 'locked': '0.00000000'}],\n",
       " 'permissions': ['SPOT']}"
      ]
     },
     "execution_count": 69,
     "metadata": {},
     "output_type": "execute_result"
    }
   ],
   "source": [
    "testClient.get_account()"
   ]
  },
  {
   "cell_type": "code",
   "execution_count": 88,
   "id": "f117ed94",
   "metadata": {},
   "outputs": [],
   "source": [
    "from binance import ThreadedWebsocketManager\n",
    "\n",
    "def stream_data(msg):\n",
    "    time = pd.to_datetime(msg['E'],unit='ms')\n",
    "    print(\"Time : {} | price : {}\".format(time,msg['c']))\n",
    "twn = ThreadedWebsocketManager()"
   ]
  },
  {
   "cell_type": "code",
   "execution_count": 89,
   "id": "286a730e",
   "metadata": {},
   "outputs": [
    {
     "data": {
      "text/plain": [
       "'btcusdt@miniTicker'"
      ]
     },
     "execution_count": 89,
     "metadata": {},
     "output_type": "execute_result"
    },
    {
     "name": "stderr",
     "output_type": "stream",
     "text": [
      "CANCEL read_loop\n",
      "Task exception was never retrieved\n",
      "future: <Task finished name='Task-59' coro=<ThreadedApiManager.start_listener() done, defined at /Users/abdullahghani/Desktop/myfiles/cod/pienv/lib/python3.9/site-packages/binance/threaded_stream.py:42> exception=RuntimeError(\"Task <Task pending name='Task-66' coro=<Queue.get() running at /opt/homebrew/Cellar/python@3.9/3.9.10/Frameworks/Python.framework/Versions/3.9/lib/python3.9/asyncio/queues.py:166> cb=[_release_waiter(<Future pendi...132942460>()]>)() at /opt/homebrew/Cellar/python@3.9/3.9.10/Frameworks/Python.framework/Versions/3.9/lib/python3.9/asyncio/tasks.py:416]> got Future <Future pending> attached to a different loop\")>\n",
      "Traceback (most recent call last):\n",
      "  File \"/Users/abdullahghani/Desktop/myfiles/cod/pienv/lib/python3.9/site-packages/binance/threaded_stream.py\", line 46, in start_listener\n",
      "    msg = await asyncio.wait_for(s.recv(), 3)\n",
      "  File \"/opt/homebrew/Cellar/python@3.9/3.9.10/Frameworks/Python.framework/Versions/3.9/lib/python3.9/asyncio/tasks.py\", line 479, in wait_for\n",
      "    return fut.result()\n",
      "  File \"/Users/abdullahghani/Desktop/myfiles/cod/pienv/lib/python3.9/site-packages/binance/streams.py\", line 197, in recv\n",
      "    res = await asyncio.wait_for(self._queue.get(), timeout=self.TIMEOUT)\n",
      "  File \"/opt/homebrew/Cellar/python@3.9/3.9.10/Frameworks/Python.framework/Versions/3.9/lib/python3.9/asyncio/tasks.py\", line 479, in wait_for\n",
      "    return fut.result()\n",
      "  File \"/opt/homebrew/Cellar/python@3.9/3.9.10/Frameworks/Python.framework/Versions/3.9/lib/python3.9/asyncio/queues.py\", line 166, in get\n",
      "    await getter\n",
      "RuntimeError: Task <Task pending name='Task-66' coro=<Queue.get() running at /opt/homebrew/Cellar/python@3.9/3.9.10/Frameworks/Python.framework/Versions/3.9/lib/python3.9/asyncio/queues.py:166> cb=[_release_waiter(<Future pendi...132942460>()]>)() at /opt/homebrew/Cellar/python@3.9/3.9.10/Frameworks/Python.framework/Versions/3.9/lib/python3.9/asyncio/tasks.py:416]> got Future <Future pending> attached to a different loop\n"
     ]
    }
   ],
   "source": [
    "twn.start()\n",
    "twn.start(callback=stream_data,symbol=\"BTCUSDT\")"
   ]
  },
  {
   "cell_type": "code",
   "execution_count": 90,
   "id": "bf930d35",
   "metadata": {},
   "outputs": [],
   "source": [
    "twn.stop()"
   ]
  },
  {
   "cell_type": "code",
   "execution_count": 92,
   "id": "1356d3da",
   "metadata": {},
   "outputs": [],
   "source": [
    "order = testClient.create_order(symbol=\"BTCUSDT\",side=\"BUY\",type=\"MARKET\",quantity=0.1)"
   ]
  },
  {
   "cell_type": "code",
   "execution_count": 96,
   "id": "998f89cf",
   "metadata": {},
   "outputs": [
    {
     "data": {
      "text/plain": [
       "{'symbol': 'BTCUSDT',\n",
       " 'orderId': 16616389,\n",
       " 'orderListId': -1,\n",
       " 'clientOrderId': 'dDx0eEWoKcbxvhmegZ47bY',\n",
       " 'transactTime': 1669697062719,\n",
       " 'price': '0.00000000',\n",
       " 'origQty': '0.10000000',\n",
       " 'executedQty': '0.10000000',\n",
       " 'cummulativeQuoteQty': '1644.89300000',\n",
       " 'status': 'FILLED',\n",
       " 'timeInForce': 'GTC',\n",
       " 'type': 'MARKET',\n",
       " 'side': 'BUY',\n",
       " 'fills': [{'price': '16448.93000000',\n",
       "   'qty': '0.10000000',\n",
       "   'commission': '0.00000000',\n",
       "   'commissionAsset': 'BTC',\n",
       "   'tradeId': 4409269}]}"
      ]
     },
     "execution_count": 96,
     "metadata": {},
     "output_type": "execute_result"
    }
   ],
   "source": [
    "order"
   ]
  },
  {
   "cell_type": "code",
   "execution_count": 102,
   "id": "5c618d56",
   "metadata": {},
   "outputs": [
    {
     "data": {
      "text/plain": [
       "[{'symbol': 'BTCUSDT',\n",
       "  'orderId': 16616389,\n",
       "  'orderListId': -1,\n",
       "  'clientOrderId': 'dDx0eEWoKcbxvhmegZ47bY',\n",
       "  'price': '0.00000000',\n",
       "  'origQty': '0.10000000',\n",
       "  'executedQty': '0.10000000',\n",
       "  'cummulativeQuoteQty': '1644.89300000',\n",
       "  'status': 'FILLED',\n",
       "  'timeInForce': 'GTC',\n",
       "  'type': 'MARKET',\n",
       "  'side': 'BUY',\n",
       "  'stopPrice': '0.00000000',\n",
       "  'icebergQty': '0.00000000',\n",
       "  'time': 1669697062719,\n",
       "  'updateTime': 1669697062719,\n",
       "  'isWorking': True,\n",
       "  'origQuoteOrderQty': '0.00000000'}]"
      ]
     },
     "execution_count": 102,
     "metadata": {},
     "output_type": "execute_result"
    }
   ],
   "source": [
    "testClient.get_all_orders(symbol=\"BTCUSDT\")"
   ]
  },
  {
   "cell_type": "code",
   "execution_count": null,
   "id": "75eff3fb",
   "metadata": {},
   "outputs": [],
   "source": [
    "order2 = testClient.create_order(symbol=\"BTCUSDT\", side=\"SELL\",type=\"LIMIT\",quantity=0.1,timeInForce=\"GTC\",)"
   ]
  }
 ],
 "metadata": {
  "kernelspec": {
   "display_name": "Python 3 (ipykernel)",
   "language": "python",
   "name": "python3"
  },
  "language_info": {
   "codemirror_mode": {
    "name": "ipython",
    "version": 3
   },
   "file_extension": ".py",
   "mimetype": "text/x-python",
   "name": "python",
   "nbconvert_exporter": "python",
   "pygments_lexer": "ipython3",
   "version": "3.9.10"
  }
 },
 "nbformat": 4,
 "nbformat_minor": 5
}
