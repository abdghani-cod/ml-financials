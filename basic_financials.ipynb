{
 "cells": [
  {
   "cell_type": "code",
   "execution_count": 42,
   "id": "a99c864a",
   "metadata": {},
   "outputs": [
    {
     "name": "stderr",
     "output_type": "stream",
     "text": [
      "/var/folders/5z/wzj0qt495bbdktpqnnk1nx100000gn/T/ipykernel_6741/3960066781.py:6: MatplotlibDeprecationWarning: The seaborn styles shipped by Matplotlib are deprecated since 3.6, as they no longer correspond to the styles shipped by seaborn. However, they will remain available as 'seaborn-v0_8-<style>'. Alternatively, directly use the seaborn API instead.\n",
      "  plt.style.use('seaborn')\n"
     ]
    }
   ],
   "source": [
    "import numpy as np\n",
    "import pandas as pd\n",
    "import yfinance as yf\n",
    "import matplotlib.pyplot as plt\n",
    "pd.options.display.float_format = '{:.4f}'.format\n",
    "plt.style.use('seaborn')"
   ]
  },
  {
   "cell_type": "code",
   "execution_count": 2,
   "id": "7ea5976f",
   "metadata": {},
   "outputs": [],
   "source": [
    "def getYData(symbol):\n",
    "    start = \"2014-10-01\"\n",
    "    end = \"2021-05-28\"\n",
    "    return yf.download(symbol,start,end)"
   ]
  },
  {
   "cell_type": "code",
   "execution_count": 3,
   "id": "880785c4",
   "metadata": {},
   "outputs": [
    {
     "name": "stdout",
     "output_type": "stream",
     "text": [
      "[*********************100%***********************]  1 of 1 completed\n"
     ]
    }
   ],
   "source": [
    "msft = getYData('msft')"
   ]
  },
  {
   "cell_type": "code",
   "execution_count": 5,
   "id": "374a1979",
   "metadata": {},
   "outputs": [
    {
     "data": {
      "text/html": [
       "<div>\n",
       "<style scoped>\n",
       "    .dataframe tbody tr th:only-of-type {\n",
       "        vertical-align: middle;\n",
       "    }\n",
       "\n",
       "    .dataframe tbody tr th {\n",
       "        vertical-align: top;\n",
       "    }\n",
       "\n",
       "    .dataframe thead th {\n",
       "        text-align: right;\n",
       "    }\n",
       "</style>\n",
       "<table border=\"1\" class=\"dataframe\">\n",
       "  <thead>\n",
       "    <tr style=\"text-align: right;\">\n",
       "      <th></th>\n",
       "      <th>Open</th>\n",
       "      <th>High</th>\n",
       "      <th>Low</th>\n",
       "      <th>Close</th>\n",
       "      <th>Adj Close</th>\n",
       "      <th>Volume</th>\n",
       "    </tr>\n",
       "    <tr>\n",
       "      <th>Date</th>\n",
       "      <th></th>\n",
       "      <th></th>\n",
       "      <th></th>\n",
       "      <th></th>\n",
       "      <th></th>\n",
       "      <th></th>\n",
       "    </tr>\n",
       "  </thead>\n",
       "  <tbody>\n",
       "    <tr>\n",
       "      <th>2014-10-01</th>\n",
       "      <td>46.2700</td>\n",
       "      <td>46.5300</td>\n",
       "      <td>45.8500</td>\n",
       "      <td>45.9000</td>\n",
       "      <td>39.8098</td>\n",
       "      <td>38088400</td>\n",
       "    </tr>\n",
       "    <tr>\n",
       "      <th>2014-10-02</th>\n",
       "      <td>45.8300</td>\n",
       "      <td>46.1000</td>\n",
       "      <td>45.6400</td>\n",
       "      <td>45.7600</td>\n",
       "      <td>39.6883</td>\n",
       "      <td>25119400</td>\n",
       "    </tr>\n",
       "    <tr>\n",
       "      <th>2014-10-03</th>\n",
       "      <td>45.9800</td>\n",
       "      <td>46.3000</td>\n",
       "      <td>45.6100</td>\n",
       "      <td>46.0900</td>\n",
       "      <td>39.9745</td>\n",
       "      <td>32453200</td>\n",
       "    </tr>\n",
       "    <tr>\n",
       "      <th>2014-10-06</th>\n",
       "      <td>46.1200</td>\n",
       "      <td>46.3000</td>\n",
       "      <td>45.9200</td>\n",
       "      <td>46.0900</td>\n",
       "      <td>39.9745</td>\n",
       "      <td>20604000</td>\n",
       "    </tr>\n",
       "    <tr>\n",
       "      <th>2014-10-07</th>\n",
       "      <td>45.8600</td>\n",
       "      <td>45.9300</td>\n",
       "      <td>45.4200</td>\n",
       "      <td>45.5300</td>\n",
       "      <td>39.4888</td>\n",
       "      <td>25723700</td>\n",
       "    </tr>\n",
       "    <tr>\n",
       "      <th>...</th>\n",
       "      <td>...</td>\n",
       "      <td>...</td>\n",
       "      <td>...</td>\n",
       "      <td>...</td>\n",
       "      <td>...</td>\n",
       "      <td>...</td>\n",
       "    </tr>\n",
       "    <tr>\n",
       "      <th>2021-05-21</th>\n",
       "      <td>247.5700</td>\n",
       "      <td>248.3300</td>\n",
       "      <td>244.7400</td>\n",
       "      <td>245.1700</td>\n",
       "      <td>241.9872</td>\n",
       "      <td>21863100</td>\n",
       "    </tr>\n",
       "    <tr>\n",
       "      <th>2021-05-24</th>\n",
       "      <td>247.7900</td>\n",
       "      <td>251.1600</td>\n",
       "      <td>247.5100</td>\n",
       "      <td>250.7800</td>\n",
       "      <td>247.5244</td>\n",
       "      <td>21411500</td>\n",
       "    </tr>\n",
       "    <tr>\n",
       "      <th>2021-05-25</th>\n",
       "      <td>251.7700</td>\n",
       "      <td>252.7500</td>\n",
       "      <td>250.8200</td>\n",
       "      <td>251.7200</td>\n",
       "      <td>248.4522</td>\n",
       "      <td>17704300</td>\n",
       "    </tr>\n",
       "    <tr>\n",
       "      <th>2021-05-26</th>\n",
       "      <td>251.4300</td>\n",
       "      <td>252.9400</td>\n",
       "      <td>250.7500</td>\n",
       "      <td>251.4900</td>\n",
       "      <td>248.2252</td>\n",
       "      <td>17771600</td>\n",
       "    </tr>\n",
       "    <tr>\n",
       "      <th>2021-05-27</th>\n",
       "      <td>251.1700</td>\n",
       "      <td>251.4800</td>\n",
       "      <td>249.2500</td>\n",
       "      <td>249.3100</td>\n",
       "      <td>246.0735</td>\n",
       "      <td>24426200</td>\n",
       "    </tr>\n",
       "  </tbody>\n",
       "</table>\n",
       "<p>1676 rows × 6 columns</p>\n",
       "</div>"
      ],
      "text/plain": [
       "               Open     High      Low    Close  Adj Close    Volume\n",
       "Date                                                               \n",
       "2014-10-01  46.2700  46.5300  45.8500  45.9000    39.8098  38088400\n",
       "2014-10-02  45.8300  46.1000  45.6400  45.7600    39.6883  25119400\n",
       "2014-10-03  45.9800  46.3000  45.6100  46.0900    39.9745  32453200\n",
       "2014-10-06  46.1200  46.3000  45.9200  46.0900    39.9745  20604000\n",
       "2014-10-07  45.8600  45.9300  45.4200  45.5300    39.4888  25723700\n",
       "...             ...      ...      ...      ...        ...       ...\n",
       "2021-05-21 247.5700 248.3300 244.7400 245.1700   241.9872  21863100\n",
       "2021-05-24 247.7900 251.1600 247.5100 250.7800   247.5244  21411500\n",
       "2021-05-25 251.7700 252.7500 250.8200 251.7200   248.4522  17704300\n",
       "2021-05-26 251.4300 252.9400 250.7500 251.4900   248.2252  17771600\n",
       "2021-05-27 251.1700 251.4800 249.2500 249.3100   246.0735  24426200\n",
       "\n",
       "[1676 rows x 6 columns]"
      ]
     },
     "execution_count": 5,
     "metadata": {},
     "output_type": "execute_result"
    }
   ],
   "source": [
    "msft"
   ]
  },
  {
   "cell_type": "code",
   "execution_count": 6,
   "id": "d42a4425",
   "metadata": {},
   "outputs": [
    {
     "data": {
      "text/html": [
       "<div>\n",
       "<style scoped>\n",
       "    .dataframe tbody tr th:only-of-type {\n",
       "        vertical-align: middle;\n",
       "    }\n",
       "\n",
       "    .dataframe tbody tr th {\n",
       "        vertical-align: top;\n",
       "    }\n",
       "\n",
       "    .dataframe thead th {\n",
       "        text-align: right;\n",
       "    }\n",
       "</style>\n",
       "<table border=\"1\" class=\"dataframe\">\n",
       "  <thead>\n",
       "    <tr style=\"text-align: right;\">\n",
       "      <th></th>\n",
       "      <th>Price</th>\n",
       "    </tr>\n",
       "    <tr>\n",
       "      <th>Date</th>\n",
       "      <th></th>\n",
       "    </tr>\n",
       "  </thead>\n",
       "  <tbody>\n",
       "    <tr>\n",
       "      <th>2014-10-01</th>\n",
       "      <td>45.9000</td>\n",
       "    </tr>\n",
       "    <tr>\n",
       "      <th>2014-10-02</th>\n",
       "      <td>45.7600</td>\n",
       "    </tr>\n",
       "    <tr>\n",
       "      <th>2014-10-03</th>\n",
       "      <td>46.0900</td>\n",
       "    </tr>\n",
       "    <tr>\n",
       "      <th>2014-10-06</th>\n",
       "      <td>46.0900</td>\n",
       "    </tr>\n",
       "    <tr>\n",
       "      <th>2014-10-07</th>\n",
       "      <td>45.5300</td>\n",
       "    </tr>\n",
       "    <tr>\n",
       "      <th>...</th>\n",
       "      <td>...</td>\n",
       "    </tr>\n",
       "    <tr>\n",
       "      <th>2021-05-21</th>\n",
       "      <td>245.1700</td>\n",
       "    </tr>\n",
       "    <tr>\n",
       "      <th>2021-05-24</th>\n",
       "      <td>250.7800</td>\n",
       "    </tr>\n",
       "    <tr>\n",
       "      <th>2021-05-25</th>\n",
       "      <td>251.7200</td>\n",
       "    </tr>\n",
       "    <tr>\n",
       "      <th>2021-05-26</th>\n",
       "      <td>251.4900</td>\n",
       "    </tr>\n",
       "    <tr>\n",
       "      <th>2021-05-27</th>\n",
       "      <td>249.3100</td>\n",
       "    </tr>\n",
       "  </tbody>\n",
       "</table>\n",
       "<p>1676 rows × 1 columns</p>\n",
       "</div>"
      ],
      "text/plain": [
       "              Price\n",
       "Date               \n",
       "2014-10-01  45.9000\n",
       "2014-10-02  45.7600\n",
       "2014-10-03  46.0900\n",
       "2014-10-06  46.0900\n",
       "2014-10-07  45.5300\n",
       "...             ...\n",
       "2021-05-21 245.1700\n",
       "2021-05-24 250.7800\n",
       "2021-05-25 251.7200\n",
       "2021-05-26 251.4900\n",
       "2021-05-27 249.3100\n",
       "\n",
       "[1676 rows x 1 columns]"
      ]
     },
     "execution_count": 6,
     "metadata": {},
     "output_type": "execute_result"
    }
   ],
   "source": [
    "msft.drop(columns=['Open','High','Low','Adj Close','Volume'],inplace=True)\n",
    "msft.rename(columns={'Close':'Price'},inplace=True)\n",
    "msft"
   ]
  },
  {
   "cell_type": "code",
   "execution_count": 19,
   "id": "163a437b",
   "metadata": {},
   "outputs": [],
   "source": [
    "msft['lag'] = msft.Price.shift(periods=1)\n",
    "msft['diff1'] = msft.Price.sub(msft.lag)\n",
    "msft['diff2'] = msft.Price.diff(periods=1)\n",
    "msft['Returns'] = msft.Price.pct_change(periods=1)"
   ]
  },
  {
   "cell_type": "code",
   "execution_count": 20,
   "id": "9b352a78",
   "metadata": {},
   "outputs": [],
   "source": [
    "msft.drop(columns=['diff1','diff2', 'lag'],inplace=True)"
   ]
  },
  {
   "cell_type": "code",
   "execution_count": 22,
   "id": "6148e2d9",
   "metadata": {},
   "outputs": [
    {
     "data": {
      "text/html": [
       "<div>\n",
       "<style scoped>\n",
       "    .dataframe tbody tr th:only-of-type {\n",
       "        vertical-align: middle;\n",
       "    }\n",
       "\n",
       "    .dataframe tbody tr th {\n",
       "        vertical-align: top;\n",
       "    }\n",
       "\n",
       "    .dataframe thead th {\n",
       "        text-align: right;\n",
       "    }\n",
       "</style>\n",
       "<table border=\"1\" class=\"dataframe\">\n",
       "  <thead>\n",
       "    <tr style=\"text-align: right;\">\n",
       "      <th></th>\n",
       "      <th>Price</th>\n",
       "      <th>Returns</th>\n",
       "    </tr>\n",
       "    <tr>\n",
       "      <th>Date</th>\n",
       "      <th></th>\n",
       "      <th></th>\n",
       "    </tr>\n",
       "  </thead>\n",
       "  <tbody>\n",
       "    <tr>\n",
       "      <th>2014-10-01</th>\n",
       "      <td>45.9000</td>\n",
       "      <td>NaN</td>\n",
       "    </tr>\n",
       "    <tr>\n",
       "      <th>2014-10-02</th>\n",
       "      <td>45.7600</td>\n",
       "      <td>-0.0031</td>\n",
       "    </tr>\n",
       "    <tr>\n",
       "      <th>2014-10-03</th>\n",
       "      <td>46.0900</td>\n",
       "      <td>0.0072</td>\n",
       "    </tr>\n",
       "    <tr>\n",
       "      <th>2014-10-06</th>\n",
       "      <td>46.0900</td>\n",
       "      <td>0.0000</td>\n",
       "    </tr>\n",
       "    <tr>\n",
       "      <th>2014-10-07</th>\n",
       "      <td>45.5300</td>\n",
       "      <td>-0.0122</td>\n",
       "    </tr>\n",
       "    <tr>\n",
       "      <th>...</th>\n",
       "      <td>...</td>\n",
       "      <td>...</td>\n",
       "    </tr>\n",
       "    <tr>\n",
       "      <th>2021-05-21</th>\n",
       "      <td>245.1700</td>\n",
       "      <td>-0.0053</td>\n",
       "    </tr>\n",
       "    <tr>\n",
       "      <th>2021-05-24</th>\n",
       "      <td>250.7800</td>\n",
       "      <td>0.0229</td>\n",
       "    </tr>\n",
       "    <tr>\n",
       "      <th>2021-05-25</th>\n",
       "      <td>251.7200</td>\n",
       "      <td>0.0037</td>\n",
       "    </tr>\n",
       "    <tr>\n",
       "      <th>2021-05-26</th>\n",
       "      <td>251.4900</td>\n",
       "      <td>-0.0009</td>\n",
       "    </tr>\n",
       "    <tr>\n",
       "      <th>2021-05-27</th>\n",
       "      <td>249.3100</td>\n",
       "      <td>-0.0087</td>\n",
       "    </tr>\n",
       "  </tbody>\n",
       "</table>\n",
       "<p>1676 rows × 2 columns</p>\n",
       "</div>"
      ],
      "text/plain": [
       "              Price  Returns\n",
       "Date                        \n",
       "2014-10-01  45.9000      NaN\n",
       "2014-10-02  45.7600  -0.0031\n",
       "2014-10-03  46.0900   0.0072\n",
       "2014-10-06  46.0900   0.0000\n",
       "2014-10-07  45.5300  -0.0122\n",
       "...             ...      ...\n",
       "2021-05-21 245.1700  -0.0053\n",
       "2021-05-24 250.7800   0.0229\n",
       "2021-05-25 251.7200   0.0037\n",
       "2021-05-26 251.4900  -0.0009\n",
       "2021-05-27 249.3100  -0.0087\n",
       "\n",
       "[1676 rows x 2 columns]"
      ]
     },
     "execution_count": 22,
     "metadata": {},
     "output_type": "execute_result"
    }
   ],
   "source": [
    "msft"
   ]
  },
  {
   "cell_type": "code",
   "execution_count": 24,
   "id": "fe769b11",
   "metadata": {},
   "outputs": [
    {
     "data": {
      "text/html": [
       "<div>\n",
       "<style scoped>\n",
       "    .dataframe tbody tr th:only-of-type {\n",
       "        vertical-align: middle;\n",
       "    }\n",
       "\n",
       "    .dataframe tbody tr th {\n",
       "        vertical-align: top;\n",
       "    }\n",
       "\n",
       "    .dataframe thead th {\n",
       "        text-align: right;\n",
       "    }\n",
       "</style>\n",
       "<table border=\"1\" class=\"dataframe\">\n",
       "  <thead>\n",
       "    <tr style=\"text-align: right;\">\n",
       "      <th></th>\n",
       "      <th>Price</th>\n",
       "      <th>Returns</th>\n",
       "    </tr>\n",
       "  </thead>\n",
       "  <tbody>\n",
       "    <tr>\n",
       "      <th>count</th>\n",
       "      <td>1676.0000</td>\n",
       "      <td>1675.0000</td>\n",
       "    </tr>\n",
       "    <tr>\n",
       "      <th>mean</th>\n",
       "      <td>106.2288</td>\n",
       "      <td>0.0012</td>\n",
       "    </tr>\n",
       "    <tr>\n",
       "      <th>std</th>\n",
       "      <td>60.6893</td>\n",
       "      <td>0.0173</td>\n",
       "    </tr>\n",
       "    <tr>\n",
       "      <th>min</th>\n",
       "      <td>40.2900</td>\n",
       "      <td>-0.1474</td>\n",
       "    </tr>\n",
       "    <tr>\n",
       "      <th>25%</th>\n",
       "      <td>54.8225</td>\n",
       "      <td>-0.0062</td>\n",
       "    </tr>\n",
       "    <tr>\n",
       "      <th>50%</th>\n",
       "      <td>89.6600</td>\n",
       "      <td>0.0009</td>\n",
       "    </tr>\n",
       "    <tr>\n",
       "      <th>75%</th>\n",
       "      <td>138.9000</td>\n",
       "      <td>0.0091</td>\n",
       "    </tr>\n",
       "    <tr>\n",
       "      <th>max</th>\n",
       "      <td>261.9700</td>\n",
       "      <td>0.1422</td>\n",
       "    </tr>\n",
       "  </tbody>\n",
       "</table>\n",
       "</div>"
      ],
      "text/plain": [
       "          Price   Returns\n",
       "count 1676.0000 1675.0000\n",
       "mean   106.2288    0.0012\n",
       "std     60.6893    0.0173\n",
       "min     40.2900   -0.1474\n",
       "25%     54.8225   -0.0062\n",
       "50%     89.6600    0.0009\n",
       "75%    138.9000    0.0091\n",
       "max    261.9700    0.1422"
      ]
     },
     "execution_count": 24,
     "metadata": {},
     "output_type": "execute_result"
    }
   ],
   "source": [
    "msft.describe()"
   ]
  },
  {
   "cell_type": "markdown",
   "id": "0aa2f088",
   "metadata": {},
   "source": [
    "- mean return => average return per day\n",
    "- std => measure of the risk/volatility \n"
   ]
  },
  {
   "cell_type": "markdown",
   "id": "089c3679",
   "metadata": {},
   "source": [
    "## Investment multiple and CAGR"
   ]
  },
  {
   "cell_type": "code",
   "execution_count": 26,
   "id": "09330c61",
   "metadata": {},
   "outputs": [
    {
     "data": {
      "text/plain": [
       "5.4315901801883415"
      ]
     },
     "execution_count": 26,
     "metadata": {},
     "output_type": "execute_result"
    }
   ],
   "source": [
    "multiple = (msft.Price[-1]/msft.Price[0])\n",
    "multiple"
   ]
  },
  {
   "cell_type": "code",
   "execution_count": 28,
   "id": "6734a235",
   "metadata": {},
   "outputs": [
    {
     "data": {
      "text/plain": [
       "443.15901801883416"
      ]
     },
     "execution_count": 28,
     "metadata": {},
     "output_type": "execute_result"
    }
   ],
   "source": [
    "growth = (multiple-1)*100\n",
    "growth"
   ]
  },
  {
   "cell_type": "markdown",
   "id": "205afe57",
   "metadata": {},
   "source": [
    "#### CAGR \n",
    "- constant annual rate of return that would require an investment to grow from its start to end, assuming profits were reinvested at the end of each year"
   ]
  },
  {
   "cell_type": "code",
   "execution_count": 30,
   "id": "151b58ae",
   "metadata": {},
   "outputs": [
    {
     "data": {
      "text/plain": [
       "6.652977412731006"
      ]
     },
     "execution_count": 30,
     "metadata": {},
     "output_type": "execute_result"
    }
   ],
   "source": [
    "td_years = ((msft.index[-1]-msft.index[0]).days)/365.25\n",
    "td_years"
   ]
  },
  {
   "cell_type": "code",
   "execution_count": 32,
   "id": "38d86ec8",
   "metadata": {},
   "outputs": [
    {
     "data": {
      "text/plain": [
       "0.2896322305109247"
      ]
     },
     "execution_count": 32,
     "metadata": {},
     "output_type": "execute_result"
    }
   ],
   "source": [
    "cagr = multiple**(1/td_years)-1\n",
    "cagr"
   ]
  },
  {
   "cell_type": "markdown",
   "id": "d93d530b",
   "metadata": {},
   "source": [
    "## Compund Returns and Geometric Mean Return"
   ]
  },
  {
   "cell_type": "code",
   "execution_count": 37,
   "id": "4413bd8b",
   "metadata": {},
   "outputs": [
    {
     "data": {
      "text/plain": [
       "5.43159018018834"
      ]
     },
     "execution_count": 37,
     "metadata": {},
     "output_type": "execute_result"
    }
   ],
   "source": [
    "multiple = (1+msft.Returns).prod()\n",
    "n = msft.Returns.count()\n",
    "multiple"
   ]
  },
  {
   "cell_type": "markdown",
   "id": "2d361887",
   "metadata": {},
   "source": [
    "#### Geometric mean return is daily return growth rate"
   ]
  },
  {
   "cell_type": "code",
   "execution_count": 38,
   "id": "641309d5",
   "metadata": {},
   "outputs": [
    {
     "data": {
      "text/plain": [
       "0.0010107982390816783"
      ]
     },
     "execution_count": 38,
     "metadata": {},
     "output_type": "execute_result"
    }
   ],
   "source": [
    "geo_mean = multiple**(1/n)-1\n",
    "geo_mean"
   ]
  },
  {
   "cell_type": "markdown",
   "id": "2f24fbb5",
   "metadata": {},
   "source": [
    "#### Arithmetic mean return is always greater than Geometric mean return"
   ]
  },
  {
   "cell_type": "code",
   "execution_count": 39,
   "id": "ae657be0",
   "metadata": {},
   "outputs": [
    {
     "data": {
      "text/plain": [
       "0.0011595881894089248"
      ]
     },
     "execution_count": 39,
     "metadata": {},
     "output_type": "execute_result"
    }
   ],
   "source": [
    "mu = msft.Returns.mean()\n",
    "mu"
   ]
  },
  {
   "cell_type": "markdown",
   "id": "7830d4e1",
   "metadata": {},
   "source": [
    "## Discrete Compounding"
   ]
  },
  {
   "cell_type": "code",
   "execution_count": 40,
   "id": "a6c114f8",
   "metadata": {},
   "outputs": [],
   "source": [
    "PV = 100\n",
    "r = 0.08\n",
    "n = 1\n",
    "m = 100000\n"
   ]
  },
  {
   "cell_type": "code",
   "execution_count": 44,
   "id": "672f7918",
   "metadata": {},
   "outputs": [
    {
     "data": {
      "text/plain": [
       "108.32870330122834"
      ]
     },
     "execution_count": 44,
     "metadata": {},
     "output_type": "execute_result"
    }
   ],
   "source": [
    "FV = PV *(1+r/m)**(n*m)\n",
    "FV"
   ]
  },
  {
   "cell_type": "code",
   "execution_count": 45,
   "id": "c8688daf",
   "metadata": {},
   "outputs": [
    {
     "data": {
      "text/html": [
       "<div>\n",
       "<style scoped>\n",
       "    .dataframe tbody tr th:only-of-type {\n",
       "        vertical-align: middle;\n",
       "    }\n",
       "\n",
       "    .dataframe tbody tr th {\n",
       "        vertical-align: top;\n",
       "    }\n",
       "\n",
       "    .dataframe thead th {\n",
       "        text-align: right;\n",
       "    }\n",
       "</style>\n",
       "<table border=\"1\" class=\"dataframe\">\n",
       "  <thead>\n",
       "    <tr style=\"text-align: right;\">\n",
       "      <th></th>\n",
       "      <th>Price</th>\n",
       "      <th>Returns</th>\n",
       "      <th>log_ret</th>\n",
       "    </tr>\n",
       "    <tr>\n",
       "      <th>Date</th>\n",
       "      <th></th>\n",
       "      <th></th>\n",
       "      <th></th>\n",
       "    </tr>\n",
       "  </thead>\n",
       "  <tbody>\n",
       "    <tr>\n",
       "      <th>2014-10-01</th>\n",
       "      <td>45.9000</td>\n",
       "      <td>NaN</td>\n",
       "      <td>NaN</td>\n",
       "    </tr>\n",
       "    <tr>\n",
       "      <th>2014-10-02</th>\n",
       "      <td>45.7600</td>\n",
       "      <td>-0.0031</td>\n",
       "      <td>-0.0031</td>\n",
       "    </tr>\n",
       "    <tr>\n",
       "      <th>2014-10-03</th>\n",
       "      <td>46.0900</td>\n",
       "      <td>0.0072</td>\n",
       "      <td>0.0072</td>\n",
       "    </tr>\n",
       "    <tr>\n",
       "      <th>2014-10-06</th>\n",
       "      <td>46.0900</td>\n",
       "      <td>0.0000</td>\n",
       "      <td>0.0000</td>\n",
       "    </tr>\n",
       "    <tr>\n",
       "      <th>2014-10-07</th>\n",
       "      <td>45.5300</td>\n",
       "      <td>-0.0122</td>\n",
       "      <td>-0.0122</td>\n",
       "    </tr>\n",
       "    <tr>\n",
       "      <th>...</th>\n",
       "      <td>...</td>\n",
       "      <td>...</td>\n",
       "      <td>...</td>\n",
       "    </tr>\n",
       "    <tr>\n",
       "      <th>2021-05-21</th>\n",
       "      <td>245.1700</td>\n",
       "      <td>-0.0053</td>\n",
       "      <td>-0.0053</td>\n",
       "    </tr>\n",
       "    <tr>\n",
       "      <th>2021-05-24</th>\n",
       "      <td>250.7800</td>\n",
       "      <td>0.0229</td>\n",
       "      <td>0.0226</td>\n",
       "    </tr>\n",
       "    <tr>\n",
       "      <th>2021-05-25</th>\n",
       "      <td>251.7200</td>\n",
       "      <td>0.0037</td>\n",
       "      <td>0.0037</td>\n",
       "    </tr>\n",
       "    <tr>\n",
       "      <th>2021-05-26</th>\n",
       "      <td>251.4900</td>\n",
       "      <td>-0.0009</td>\n",
       "      <td>-0.0009</td>\n",
       "    </tr>\n",
       "    <tr>\n",
       "      <th>2021-05-27</th>\n",
       "      <td>249.3100</td>\n",
       "      <td>-0.0087</td>\n",
       "      <td>-0.0087</td>\n",
       "    </tr>\n",
       "  </tbody>\n",
       "</table>\n",
       "<p>1676 rows × 3 columns</p>\n",
       "</div>"
      ],
      "text/plain": [
       "              Price  Returns  log_ret\n",
       "Date                                 \n",
       "2014-10-01  45.9000      NaN      NaN\n",
       "2014-10-02  45.7600  -0.0031  -0.0031\n",
       "2014-10-03  46.0900   0.0072   0.0072\n",
       "2014-10-06  46.0900   0.0000   0.0000\n",
       "2014-10-07  45.5300  -0.0122  -0.0122\n",
       "...             ...      ...      ...\n",
       "2021-05-21 245.1700  -0.0053  -0.0053\n",
       "2021-05-24 250.7800   0.0229   0.0226\n",
       "2021-05-25 251.7200   0.0037   0.0037\n",
       "2021-05-26 251.4900  -0.0009  -0.0009\n",
       "2021-05-27 249.3100  -0.0087  -0.0087\n",
       "\n",
       "[1676 rows x 3 columns]"
      ]
     },
     "execution_count": 45,
     "metadata": {},
     "output_type": "execute_result"
    }
   ],
   "source": [
    "msft[\"log_ret\"] = np.log(msft.Price/msft.Price.shift())\n",
    "msft"
   ]
  },
  {
   "cell_type": "code",
   "execution_count": 46,
   "id": "f3708d3c",
   "metadata": {},
   "outputs": [
    {
     "data": {
      "text/plain": [
       "251.766975308642"
      ]
     },
     "execution_count": 46,
     "metadata": {},
     "output_type": "execute_result"
    }
   ],
   "source": [
    "trading_days_year = msft.Returns.count()/(((msft.index[-1]-msft.index[0]).days)/365.25)\n",
    "trading_days_year"
   ]
  },
  {
   "cell_type": "code",
   "execution_count": 47,
   "id": "3a3b1b85",
   "metadata": {},
   "outputs": [
    {
     "data": {
      "text/plain": [
       "0.28963223051092424"
      ]
     },
     "execution_count": 47,
     "metadata": {},
     "output_type": "execute_result"
    }
   ],
   "source": [
    "np.exp(msft.log_ret.mean() * trading_days_year)-1"
   ]
  }
 ],
 "metadata": {
  "kernelspec": {
   "display_name": "Python 3 (ipykernel)",
   "language": "python",
   "name": "python3"
  },
  "language_info": {
   "codemirror_mode": {
    "name": "ipython",
    "version": 3
   },
   "file_extension": ".py",
   "mimetype": "text/x-python",
   "name": "python",
   "nbconvert_exporter": "python",
   "pygments_lexer": "ipython3",
   "version": "3.9.10"
  }
 },
 "nbformat": 4,
 "nbformat_minor": 5
}
